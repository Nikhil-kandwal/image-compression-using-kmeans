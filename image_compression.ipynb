{
 "cells": [
  {
   "cell_type": "code",
   "execution_count": null,
   "id": "617a9278-02b4-4490-baa6-0fe2e19e1372",
   "metadata": {},
   "outputs": [],
   "source": [
    "import pandas as pd\n",
    "import numpy as np\n",
    "from PIL import Image\n",
    "import os\n",
    "import cv2\n",
    "from sklearn.cluster import KMeans\n",
    "import matplotlib.pyplot as plt\n",
    "import random\n",
    "import math"
   ]
  },
  {
   "cell_type": "code",
   "execution_count": null,
   "id": "0afd8137-bae3-4a5c-b2a4-426337dac76d",
   "metadata": {},
   "outputs": [],
   "source": [
    "path=\"pexels-anjana-c-169994-674010.jpg\""
   ]
  },
  {
   "cell_type": "code",
   "execution_count": null,
   "id": "e186731f-88f5-428f-9424-0034af024578",
   "metadata": {},
   "outputs": [],
   "source": [
    "import os\n",
    "\n",
    "print(\"Path to image:\", path)\n",
    "print(\"File exists:\", os.path.exists(path))"
   ]
  },
  {
   "cell_type": "code",
   "execution_count": null,
   "id": "bbb12817-69b7-4a5c-98ec-695baa0eaa32",
   "metadata": {},
   "outputs": [],
   "source": [
    "image= Image.open(path)"
   ]
  },
  {
   "cell_type": "code",
   "execution_count": null,
   "id": "f0fa1566-76fa-47e1-8753-3c4adfc4047b",
   "metadata": {},
   "outputs": [],
   "source": [
    "image.size"
   ]
  },
  {
   "cell_type": "code",
   "execution_count": null,
   "id": "ae615620-9887-450d-a9e3-e843be9e0997",
   "metadata": {},
   "outputs": [],
   "source": [
    "image.mode"
   ]
  },
  {
   "cell_type": "code",
   "execution_count": null,
   "id": "9e019bce-d3c0-4efa-8ba9-9125ebf3116a",
   "metadata": {},
   "outputs": [],
   "source": [
    "image.format"
   ]
  },
  {
   "cell_type": "code",
   "execution_count": null,
   "id": "e2afe823-dd66-4b75-ab88-df2bd113e20c",
   "metadata": {},
   "outputs": [],
   "source": [
    "image= image.resize((300,300))"
   ]
  },
  {
   "cell_type": "code",
   "execution_count": null,
   "id": "8a9ba1e2-b7e9-43e0-a80e-9cff6189c6d2",
   "metadata": {},
   "outputs": [],
   "source": [
    "image"
   ]
  },
  {
   "cell_type": "code",
   "execution_count": null,
   "id": "febe55f6-4a90-4bc2-93df-52a54f07e4a6",
   "metadata": {},
   "outputs": [],
   "source": [
    "arr= np.array(image)"
   ]
  },
  {
   "cell_type": "code",
   "execution_count": null,
   "id": "43fbcb7b-1023-45b4-95f8-e3a8db6e4eb1",
   "metadata": {},
   "outputs": [],
   "source": [
    "arr.shape"
   ]
  },
  {
   "cell_type": "code",
   "execution_count": null,
   "id": "3f60c0bf-fea9-4c16-8fde-aa8b7837417d",
   "metadata": {},
   "outputs": [],
   "source": [
    "pixels= arr.reshape(300*300,3)"
   ]
  },
  {
   "cell_type": "code",
   "execution_count": null,
   "id": "689f05fa-6fa0-4758-8cf4-c66190b95774",
   "metadata": {},
   "outputs": [],
   "source": [
    "pixels.shape"
   ]
  },
  {
   "cell_type": "code",
   "execution_count": null,
   "id": "df82e933-0707-4e7a-a0bd-f51663fe1fb8",
   "metadata": {},
   "outputs": [],
   "source": [
    "pixels.size"
   ]
  },
  {
   "cell_type": "code",
   "execution_count": null,
   "id": "6373c233-2025-442e-953a-4a5175c3ae6a",
   "metadata": {},
   "outputs": [],
   "source": [
    "pixels"
   ]
  },
  {
   "cell_type": "markdown",
   "id": "a5fa2fdb-3a1b-43a2-96bf-5a5d321c4521",
   "metadata": {},
   "source": [
    "#Kmeans code"
   ]
  },
  {
   "cell_type": "markdown",
   "id": "1cd9eafc-2e1f-4e65-ad3f-e29ce049509c",
   "metadata": {},
   "source": [
    "selecting random centroids"
   ]
  },
  {
   "cell_type": "code",
   "execution_count": null,
   "id": "9b6232c7-695f-4624-b100-6a605e53512a",
   "metadata": {},
   "outputs": [],
   "source": [
    "def initialize_centroids(pixels, k):\n",
    "    indices = random.sample(range(len(pixels)), k)\n",
    "    centroids = pixels[indices]\n",
    "    return centroids"
   ]
  },
  {
   "cell_type": "code",
   "execution_count": null,
   "id": "6798c96f-3338-4b0e-b9a1-8e1eb6ab1ad8",
   "metadata": {},
   "outputs": [],
   "source": [
    "type(pixels[random.sample(range(len(pixels)), K)])"
   ]
  },
  {
   "cell_type": "code",
   "execution_count": null,
   "id": "d97daa7d-c941-4a31-87ba-1fb65519ec81",
   "metadata": {},
   "outputs": [],
   "source": [
    "pixels[random.sample(range(len(pixels)), 5)]"
   ]
  },
  {
   "cell_type": "markdown",
   "id": "5db5f1c9-4099-40ca-8767-7b4168bfe5ed",
   "metadata": {},
   "source": [
    "finding distance from each point to nearest centroid"
   ]
  },
  {
   "cell_type": "code",
   "execution_count": null,
   "id": "246b20ae-d1a1-4600-8ea3-a8a670cf9e74",
   "metadata": {},
   "outputs": [],
   "source": [
    "def find_closest_centroids(pixels, centroids):\n",
    "    idx=[]\n",
    "    K = centroids.shape[0]\n",
    "    for i in pixels:\n",
    "        dist=[]\n",
    "        for j in centroids:\n",
    "            #value=(i[0]-j[0])**2 + (i[1]-j[1])**2\n",
    "            value= np.linalg.norm(i-j)\n",
    "            dist.append(value)\n",
    "        idx.append(dist.index(min(dist)))\n",
    "                \n",
    "    return np.array(idx)"
   ]
  },
  {
   "cell_type": "code",
   "execution_count": null,
   "id": "0ac73e36-d4de-4814-9103-c85960f0e70b",
   "metadata": {},
   "outputs": [],
   "source": [
    "# point = np.array([100, 150, 200])         # shape: (3,)\n",
    "# centroids = np.array([[120, 160, 190],    # shape: (k, 3)\n",
    "#                       [90, 140, 210],\n",
    "#                       [200, 200, 200]])\n",
    "# # Euclidean distances from point to each centroid\n",
    "# distances = np.linalg.norm(centroids - point, axis=1)"
   ]
  },
  {
   "cell_type": "code",
   "execution_count": null,
   "id": "520f88e5-8464-42b9-95ce-b233019ad901",
   "metadata": {},
   "outputs": [],
   "source": [
    "def compute_centroids(pixels, idx, K): \n",
    "    \n",
    "    centroids = []\n",
    "\n",
    "    for i in range(K):\n",
    "        group=[]\n",
    "        for j in range(idx.shape[0]):\n",
    "            if(i==idx[j]):\n",
    "                group.append(pixels[j])\n",
    "        if(len(group)>0):\n",
    "            centroids.append(np.array(group).mean(0))\n",
    "        else:\n",
    "            centroids.append(pixels[np.random.randint(0, pixels.shape[0])])\n",
    "    return np.array(centroids)"
   ]
  },
  {
   "cell_type": "code",
   "execution_count": null,
   "id": "249f72ec-3c23-4b34-b06b-daa21007feb2",
   "metadata": {},
   "outputs": [],
   "source": [
    "pixels.shape"
   ]
  },
  {
   "cell_type": "code",
   "execution_count": null,
   "id": "9d076d23-b736-41b4-8449-1a4b2a783b67",
   "metadata": {},
   "outputs": [],
   "source": [
    "K=20\n",
    "centroids= initialize_centroids(pixels,K)"
   ]
  },
  {
   "cell_type": "code",
   "execution_count": null,
   "id": "15345488-6dd4-44e4-a1c6-87cf079e4484",
   "metadata": {},
   "outputs": [],
   "source": [
    "for i in range(10):\n",
    "    idx= find_closest_centroids(pixels,centroids)\n",
    "    centroids= compute_centroids(pixels,idx,K)"
   ]
  },
  {
   "cell_type": "code",
   "execution_count": null,
   "id": "5515039b-4e6f-40ec-a061-52ee3221809a",
   "metadata": {},
   "outputs": [],
   "source": [
    "centroids"
   ]
  },
  {
   "cell_type": "code",
   "execution_count": null,
   "id": "6f4fad86-9a44-4f45-810e-c305a2594251",
   "metadata": {},
   "outputs": [],
   "source": [
    "type(centroids)"
   ]
  },
  {
   "cell_type": "code",
   "execution_count": null,
   "id": "23ab4e72-868a-4f9d-ba8f-de8f2fe691c9",
   "metadata": {},
   "outputs": [],
   "source": [
    "centroids.shape"
   ]
  },
  {
   "cell_type": "code",
   "execution_count": null,
   "id": "9c895324-f145-4ad1-a3f3-0c293aceb21d",
   "metadata": {},
   "outputs": [],
   "source": [
    "type(idx)"
   ]
  },
  {
   "cell_type": "code",
   "execution_count": null,
   "id": "0b7524ae-9390-4ba6-85e7-3151512b0b65",
   "metadata": {},
   "outputs": [],
   "source": [
    "idx.shape"
   ]
  },
  {
   "cell_type": "code",
   "execution_count": null,
   "id": "a5100693-1eb8-409e-a5fd-a190e9b6a6d9",
   "metadata": {},
   "outputs": [],
   "source": [
    "set(idx)"
   ]
  },
  {
   "cell_type": "code",
   "execution_count": null,
   "id": "6666baa1-8590-4f75-972f-202bfabc7b3b",
   "metadata": {},
   "outputs": [],
   "source": [
    "compressed_pixels=[]\n",
    "for i in range(idx.shape[0]):\n",
    "    compressed_pixels.append(centroids[idx[i]])"
   ]
  },
  {
   "cell_type": "code",
   "execution_count": null,
   "id": "899ad5fd-707d-4b71-b291-1f1ebba8cae4",
   "metadata": {},
   "outputs": [],
   "source": [
    "compressed_pixels= np.array(compressed_pixels)"
   ]
  },
  {
   "cell_type": "code",
   "execution_count": null,
   "id": "1af7dd76-75d8-45c2-bd82-e59a3e7936bf",
   "metadata": {},
   "outputs": [],
   "source": [
    "compressed_img_pixels=compressed_pixels.reshape(arr.shape)"
   ]
  },
  {
   "cell_type": "code",
   "execution_count": null,
   "id": "b99e96f0-caf9-4f43-b94e-5097696fab94",
   "metadata": {},
   "outputs": [],
   "source": [
    "compressed_img_pixels.shape"
   ]
  },
  {
   "cell_type": "code",
   "execution_count": null,
   "id": "d49b9794-1e1d-4295-affe-d58a9524b46d",
   "metadata": {},
   "outputs": [],
   "source": [
    "type(compressed_img_pixels)"
   ]
  },
  {
   "cell_type": "code",
   "execution_count": null,
   "id": "5886f70e-83ad-49af-a322-cc5e5cc6d22c",
   "metadata": {},
   "outputs": [],
   "source": [
    "compressed_img_pixels"
   ]
  },
  {
   "cell_type": "code",
   "execution_count": null,
   "id": "73c07a95-b847-4651-80e9-3e23491edb69",
   "metadata": {},
   "outputs": [],
   "source": [
    "img = Image.fromarray((compressed_img_pixels).astype('uint8'))"
   ]
  },
  {
   "cell_type": "code",
   "execution_count": null,
   "id": "35bc36c6-dbb2-4159-a7e3-77e32d87b12b",
   "metadata": {},
   "outputs": [],
   "source": [
    "img"
   ]
  },
  {
   "cell_type": "code",
   "execution_count": null,
   "id": "fbd86d32-c883-4064-ad16-81f89671eb8d",
   "metadata": {},
   "outputs": [],
   "source": [
    "new= img.resize(image.size)"
   ]
  },
  {
   "cell_type": "code",
   "execution_count": null,
   "id": "1a283d75-6bbf-43d9-ac9e-4d8f9bd199d1",
   "metadata": {},
   "outputs": [],
   "source": [
    "new"
   ]
  },
  {
   "cell_type": "code",
   "execution_count": null,
   "id": "473a2a6a-a2b5-424a-abb0-a6bc195e8ac7",
   "metadata": {},
   "outputs": [],
   "source": [
    "#new.save(\"kri_compressed_image_with_actual image_size.jpg\")"
   ]
  },
  {
   "cell_type": "code",
   "execution_count": null,
   "id": "05656aae-3ad8-4208-96fe-52d2b1317cf8",
   "metadata": {},
   "outputs": [],
   "source": [
    "#img.save(\"kri_compressed_image_reshape.jpg\")"
   ]
  },
  {
   "cell_type": "code",
   "execution_count": null,
   "id": "91d94a35-fa76-4610-8feb-efcc46da43eb",
   "metadata": {},
   "outputs": [],
   "source": [
    "# kmeans = KMeans(n_clusters=40, random_state=0).fit(pixels)\n",
    "# compressed_pixels = kmeans.cluster_centers_[kmeans.labels_].astype('uint8')"
   ]
  }
 ],
 "metadata": {
  "kernelspec": {
   "display_name": "Python 3.12",
   "language": "python",
   "name": "python_3.12"
  },
  "language_info": {
   "codemirror_mode": {
    "name": "ipython",
    "version": 3
   },
   "file_extension": ".py",
   "mimetype": "text/x-python",
   "name": "python",
   "nbconvert_exporter": "python",
   "pygments_lexer": "ipython3",
   "version": "3.12.3"
  }
 },
 "nbformat": 4,
 "nbformat_minor": 5
}
